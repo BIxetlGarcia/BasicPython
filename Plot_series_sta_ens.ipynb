{
 "cells": [
  {
   "cell_type": "code",
   "execution_count": 1,
   "metadata": {
    "collapsed": false
   },
   "outputs": [],
   "source": [
    "import numpy as np\n",
    "import pandas as pd\n",
    "import xarray as xr\n",
    "import matplotlib.pyplot as plt\n",
    "from matplotlib import animation\n",
    "import cartopy.crs as ccrs\n",
    "from scipy.io import netcdf\n",
    "from netCDF4 import num2date\n",
    "from netCDF4 import Dataset as NetCDFFile \n",
    "\n",
    "from mpl_toolkits.basemap import Basemap"
   ]
  },
  {
   "cell_type": "code",
   "execution_count": 43,
   "metadata": {
    "collapsed": false
   },
   "outputs": [
    {
     "name": "stdout",
     "output_type": "stream",
     "text": [
      "/home/garcia/Documents/PhD/DATA/GOM025-GSL301.050_y1993-2012.1d_gridT.nc\n"
     ]
    }
   ],
   "source": [
    "path='/home/garcia/Documents/PhD/DATA/'\n",
    "mfiles=  'GOM025-GSL301.050_y1993-2012.1d_gridT.nc','GOM025-GSL301.001_y1993-2012.1d_gridT.nc'\n",
    "mean_file=path+ mfiles[0]\n",
    "print(mean_file)"
   ]
  },
  {
   "cell_type": "code",
   "execution_count": 118,
   "metadata": {
    "collapsed": false
   },
   "outputs": [
    {
     "name": "stdout",
     "output_type": "stream",
     "text": [
      "(7300, 141, 201)\n",
      "1\n",
      "[ 0.16372952  0.31616316  0.96238212]\n",
      "(7300, 141, 201)\n",
      "2\n",
      "[ 0.90770801  0.75564927  0.30964523]\n"
     ]
    }
   ],
   "source": [
    "#mean_file = '/home/garcia/Documents/PhD/DATA/GOM025-GSL301.050_y1993-2012.1d_gridT.nc'\n",
    "fig=plt.figure(figsize=(10.0,3.0))\n",
    "axes1=fig.add_subplot(1,2,1)\n",
    "axes2=fig.add_subplot(1,2,2)\n",
    "ids=0\n",
    "for item in mfiles:\n",
    "    \n",
    "    mean_file=path+ mfiles[ids]\n",
    "    \n",
    "    ds = xr.open_dataset(mean_file)\n",
    "    print(ds.ssh.shape)\n",
    "    ids=ids+1\n",
    "    print(ids)\n",
    "    lats = xr.open_dataset(mean_file)['nav_lat']\n",
    "    lons = xr.open_dataset(mean_file)['nav_lon']\n",
    "    time = xr.open_dataset(mean_file)['time_counter']\n",
    "    sta=1\n",
    "    mla,mlo=[88,45]\n",
    "    #plt.gcf().clear()\n",
    "    mlo\n",
    "    plot_example_sst(ds.ssh,time,lons,lats,mlo[its],mla[its],ids,its)\n",
    "    \n",
    "#fig.savefig('test%s.pdf' %sta)\n",
    "\n"
   ]
  },
  {
   "cell_type": "code",
   "execution_count": 3,
   "metadata": {
    "collapsed": true
   },
   "outputs": [],
   "source": [
    "#tvar=ncf.variables[('time_centered')][:]\n",
    "#lats=ncf.variables[('nav_lat')][:]\n",
    "#lons=ncf.variables[('nav_lon')][:]\n",
    "#SSH=ncf.variables[('ssh')][:]\n",
    "#SST=ncf.variables[('sst')][:]"
   ]
  },
  {
   "cell_type": "code",
   "execution_count": 3,
   "metadata": {
    "collapsed": true
   },
   "outputs": [],
   "source": [
    "from oocgcm.griddeddata import grids\n",
    "#x = np.arange(start=0, stop=1.e7, step=1.e6,dtype=float)\n",
    "#y = np.arange(start=0, stop=1.2e7, step=1.e6,dtype=float)\n",
    "grd = grids.plane_2d_grid(ycoord=ds.nav_lat,xcoord=ds.nav_lon)"
   ]
  },
  {
   "cell_type": "code",
   "execution_count": 4,
   "metadata": {
    "collapsed": false
   },
   "outputs": [
    {
     "name": "stdout",
     "output_type": "stream",
     "text": [
      "(7300, 141, 201)\n",
      "(7300, 141, 201)\n"
     ]
    }
   ],
   "source": [
    "gssh=grd.norm_of_vectorfield(grd.horizontal_gradient(ds.ssh))\n",
    "print(gssh.shape)\n",
    "print(ds.ssh.shape)"
   ]
  },
  {
   "cell_type": "code",
   "execution_count": 100,
   "metadata": {
    "collapsed": false
   },
   "outputs": [
    {
     "name": "stdout",
     "output_type": "stream",
     "text": [
      "(<xarray.DataArray 'nav_lat' (y: 2, x: 2)>\n",
      "array([[ 23.09475327,  23.09512901],\n",
      "       [ 25.36048508,  25.36261559]], dtype=float32)\n",
      "Coordinates:\n",
      "    nav_lat  (y, x) float32 23.0948 23.0951 25.3605 25.3626\n",
      "    nav_lon  (y, x) float32 -90.75 -83.25 -90.7504 -83.2505\n",
      "  * y        (y) int64 80 90\n",
      "  * x        (x) int64 30 60\n",
      "Attributes:\n",
      "    axis: Y\n",
      "    standard_name: latitude\n",
      "    long_name: Latitude\n",
      "    units: degrees_north\n",
      "    nav_model: grid_T, <xarray.DataArray 'nav_lon' (y: 2, x: 2)>\n",
      "array([[-90.75003815, -83.25004578],\n",
      "       [-90.75037384, -83.25050354]], dtype=float32)\n",
      "Coordinates:\n",
      "    nav_lat  (y, x) float32 23.0948 23.0951 25.3605 25.3626\n",
      "    nav_lon  (y, x) float32 -90.75 -83.25 -90.7504 -83.2505\n",
      "  * y        (y) int64 80 90\n",
      "  * x        (x) int64 30 60\n",
      "Attributes:\n",
      "    axis: X\n",
      "    standard_name: longitude\n",
      "    long_name: Longitude\n",
      "    units: degrees_east\n",
      "    nav_model: grid_T)\n",
      "(7300, 2, 2)\n"
     ]
    }
   ],
   "source": [
    "\n",
    "mla=[80,90]\n",
    "mlo=[30,60]\n",
    "print(lats[mla,mlo],lons[mla,mlo])\n",
    "print(ds.ssh[:,mla,mlo].shape)\n"
   ]
  },
  {
   "cell_type": "code",
   "execution_count": 119,
   "metadata": {
    "collapsed": false,
    "scrolled": true
   },
   "outputs": [],
   "source": [
    "def plot_example_sst(variable,time,lons,lats,mlo,mla,ensnu,sta):\n",
    "#plt.gcf().clear()\n",
    "#fig=plt.figure(figsize=(10.0,3.0))\n",
    "#axes1=fig.add_subplot(1,2,1)\n",
    "#axes2=fig.add_subplot(1,2,2)\n",
    "#ids=0\n",
    "#for item in mfiles:\n",
    "    \n",
    "    axes1=fig.add_subplot(1,2,1)\n",
    "    llcrnrlon = -100\n",
    "    llcrnrlat = 15\n",
    "    urcrnrlon = -70\n",
    "    urcrnrlat = 40\n",
    "    proj='cyl'\n",
    "    m = Basemap(llcrnrlon=llcrnrlon, llcrnrlat=llcrnrlat,\n",
    "                urcrnrlon=urcrnrlon, urcrnrlat=urcrnrlat,\n",
    "                projection=proj)\n",
    "    m.fillcontinents(color='darkseagreen')\n",
    "    my, mx =m(lats[mla,mlo],lons[mla,mlo])#mx,my= m(24,-85)\n",
    "    parallels = np.arange(-100.,81.,4.)\n",
    "    m.drawparallels(parallels,labels=[False,True,True,False])\n",
    "    meridians = np.arange(0.,351.,4.)\n",
    "    m.drawmeridians(meridians,labels=[True,False,False,True])\n",
    "    m.drawcoastlines()\n",
    "    m.plot(mx,my,color='indigo',marker='o',markersize=6)\n",
    "    #axes2=fig.add_subplot(1,2,2)\n",
    "    axes2.set_ylabel('SST')\n",
    "    axes2.set_xlabel('Time')\n",
    "    colorgr=(np.random.random(3))\n",
    "    #ensnu=2 \n",
    "    #sta=1\n",
    "    #print(colorgr)\n",
    "    axes2.plot(time,variable[:,mla,mlo],color=colorgr,linestyle='solid',label=str(ensnu))\n",
    "    axes2.legend()\n",
    "    fig.savefig('test%s.pdf' %sta)\n",
    "    #ids=ids+1\n",
    "    \n",
    "#plt.show()\n",
    "\n"
   ]
  },
  {
   "cell_type": "code",
   "execution_count": 117,
   "metadata": {
    "collapsed": false,
    "scrolled": true
   },
   "outputs": [
    {
     "data": {
      "image/png": "[encoded data removed]",
      "text/plain": [
       "<matplotlib.figure.Figure at 0x7f197aa7ed10>"
      ]
     },
     "metadata": {},
     "output_type": "display_data"
    },
    {
     "name": "stdout",
     "output_type": "stream",
     "text": [
      "(141, 201)\n"
     ]
    }
   ],
   "source": [
    "#fig=plt.figure(figsize=(10.0,3.0))\n",
    "#axes1=fig.add_subplot(1,2,1)\n",
    "axes2=fig.add_subplot(1,2,2)\n",
    "axes1.set_ylabel('SST')\n",
    "axes1.set_xlabel('Time')\n",
    "plt.pcolormesh(ds.ssh[100,:,:])\n",
    "#axes1.plot(shla[:,-1],'or')\n",
    "plt.show()\n",
    "print(ds.ssh[100,:,:].shape)\n",
    "#fig.savefig('test%s.pdf' %dst)\n",
    "\n",
    "plt.gcf().clear()"
   ]
  },
  {
   "cell_type": "code",
   "execution_count": 15,
   "metadata": {
    "collapsed": true
   },
   "outputs": [],
   "source": []
  },
  {
   "cell_type": "code",
   "execution_count": null,
   "metadata": {
    "collapsed": true
   },
   "outputs": [],
   "source": []
  }
 ],
 "metadata": {
  "anaconda-cloud": {},
  "kernelspec": {
   "display_name": "Python [conda root]",
   "language": "python",
   "name": "conda-root-py"
  },
  "language_info": {
   "codemirror_mode": {
    "name": "ipython",
    "version": 2
   },
   "file_extension": ".py",
   "mimetype": "text/x-python",
   "name": "python",
   "nbconvert_exporter": "python",
   "pygments_lexer": "ipython2",
   "version": "2.7.12"
  }
 },
 "nbformat": 4,
 "nbformat_minor": 1
}
