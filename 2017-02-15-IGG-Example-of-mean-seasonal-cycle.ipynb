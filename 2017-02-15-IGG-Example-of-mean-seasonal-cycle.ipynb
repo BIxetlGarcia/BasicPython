{
 "cells": [
  {
   "cell_type": "markdown",
   "metadata": {},
   "source": [
    "# Example of mean seasonal cycle and filter \n"
   ]
  },
  {
   "cell_type": "code",
   "execution_count": 1,
   "metadata": {
    "collapsed": true
   },
   "outputs": [],
   "source": [
    "import os\n",
    "import numpy as np\n",
    "import pandas as pd\n",
    "import xarray as xr\n",
    "import glob\n",
    "import matplotlib.pyplot as plt\n",
    "%matplotlib inline  \n",
    "#from matplotlib import animation\n",
    "import cartopy.crs as ccrs\n",
    "from scipy.io import netcdf\n",
    "from scipy import signal\n",
    "from netCDF4 import num2date\n",
    "from netCDF4 import Dataset as NetCDFFile \n",
    "import matplotlib.dates as mdates\n",
    "from mpl_toolkits.basemap import Basemap\n",
    "import datetime\n",
    "from wavelets import WaveletAnalysis"
   ]
  },
  {
   "cell_type": "code",
   "execution_count": null,
   "metadata": {
    "collapsed": true
   },
   "outputs": [],
   "source": []
  },
  {
   "cell_type": "code",
   "execution_count": null,
   "metadata": {
    "collapsed": true
   },
   "outputs": [],
   "source": [
    "\n",
    "path='/home/garcia/Documents/PhD/DATA/'\n",
    "filenames=sorted(glob.glob('/home/garcia/Documents/PhD/DATA/ENTROPY/day5_average/*.nc'))\n",
    "mfiles=sorted(glob.glob('/home/garcia/Documents/PhD/DATA/GOM/*.nc'))\n",
    "print(len(filenames))\n",
    "meanfile='/home/garcia/Documents/PhD/DATA/ENTROPY/Smean.nc'\n",
    "\n",
    "\n",
    "ds = xr.open_mfdataset(filenames,concat_dim='time') #files of  time series of entropy \n",
    "dsl=xr.open_dataset(path+'GOM/GOM025-GSL301.041_y1993-2012.1d_gridT.nc')# file for the lats, lons and time\n",
    "mds=xr.open_dataset(meanfile) # file of mean  Entropy \n",
    "lats=dsl.nav_lat \n",
    "lons=dsl.nav_lon\n",
    "time2=dsl.time_centered #time of SSH (daily)\n",
    "time3 = pd.date_range('1996-12-31','2012-12-26' , freq='5D') # time of the entropy (evry 5 days)"
   ]
  },
  {
   "cell_type": "code",
   "execution_count": 6,
   "metadata": {
    "collapsed": true
   },
   "outputs": [],
   "source": [
    "def clim_stS(smean,yi):\n",
    "    ## Mean seasonal cycle for series time with delta T of 5 days \n",
    "    ## smean: series time\n",
    "    ## yi year of start of the series time \n",
    "    ## smep: in the out of the mean seasonal cycle repeated every year, so is the same shape as smean\n",
    "    ## sme1: is the out of just one year of the seasonal cycle\n",
    "    if yi==1997:\n",
    "        l=0\n",
    "        fy=14\n",
    "        ny=15\n",
    "        diy=[73,73,73,73,73,73,73,73,73,73,73,73,73,73,73,73]\n",
    "        years=[1997,1998,1999,2000,2001,2002,2003,2004,2005,2006,2007,2008,2009,2010,2011,2012]\n",
    "    else:\n",
    "        l=0\n",
    "        fy=18\n",
    "        ny=19\n",
    "        diy=[73,73,73,73,73,73,73,73,73,73,73,73,73,73,73,73,73,73,73,73]\n",
    "        years=[1993,1994,1995,1996,1997,1998,1999,2000,2001,2002,2003,2004,2005,2006,2007,2008,2009,2010,2011,2012]\n",
    "        \n",
    "    \n",
    "    csdiy=np.cumsum(diy)\n",
    "    \n",
    "    smeassh=np.empty(smean.shape)\n",
    "    smeassh[:]=np.NaN\n",
    "    smep=np.empty(len(smean))\n",
    "    smep[:]=np.NaN\n",
    "    \n",
    "    for j in range(73):\n",
    "        \n",
    "        smeassh[l]=smean[l]\n",
    "        smep[l]=smeassh[l]\n",
    "        \n",
    "        for k in range(ny):\n",
    "                        \n",
    "            smeassh[l]=smeassh[l]+smean[l+csdiy[k]]\n",
    "               \n",
    "                        \n",
    "    \n",
    "            dd=dd+1\n",
    "        #print(j+csdiy[:-1])\n",
    "        #print(l,csdiy[:-1])\n",
    "        smep[l+csdiy[:-1]]=smeassh[l]\n",
    "        smep[l]=smeassh[l]\n",
    "            \n",
    "        l=l+1\n",
    "    sme1=smeassh[:73]\n",
    "    return (smep,sme1)"
   ]
  },
  {
   "cell_type": "code",
   "execution_count": 7,
   "metadata": {
    "collapsed": false
   },
   "outputs": [
    {
     "ename": "NameError",
     "evalue": "name 'ds' is not defined",
     "output_type": "error",
     "traceback": [
      "\u001b[0;31m---------------------------------------------------------------------------\u001b[0m",
      "\u001b[0;31mNameError\u001b[0m                                 Traceback (most recent call last)",
      "\u001b[0;32m<ipython-input-7-2a1e9a609cb6>\u001b[0m in \u001b[0;36m<module>\u001b[0;34m()\u001b[0m\n\u001b[1;32m      2\u001b[0m \u001b[0mmlo\u001b[0m\u001b[0;34m=\u001b[0m\u001b[0;36m43\u001b[0m\u001b[0;34m\u001b[0m\u001b[0m\n\u001b[1;32m      3\u001b[0m \u001b[0mmla\u001b[0m\u001b[0;34m=\u001b[0m\u001b[0;36m87\u001b[0m\u001b[0;34m\u001b[0m\u001b[0m\n\u001b[0;32m----> 4\u001b[0;31m \u001b[0mts\u001b[0m\u001b[0;34m=\u001b[0m\u001b[0mnp\u001b[0m\u001b[0;34m.\u001b[0m\u001b[0msqueeze\u001b[0m\u001b[0;34m(\u001b[0m\u001b[0mds\u001b[0m\u001b[0;34m.\u001b[0m\u001b[0mS\u001b[0m\u001b[0;34m[\u001b[0m\u001b[0;36m292\u001b[0m\u001b[0;34m:\u001b[0m\u001b[0;34m,\u001b[0m\u001b[0mmla\u001b[0m\u001b[0;34m,\u001b[0m\u001b[0mmlo\u001b[0m\u001b[0;34m]\u001b[0m\u001b[0;34m)\u001b[0m\u001b[0;31m#series time, the index 292 in my series time represents the begining of 1997\u001b[0m\u001b[0;34m\u001b[0m\u001b[0m\n\u001b[0m\u001b[1;32m      5\u001b[0m \u001b[0mpclim\u001b[0m\u001b[0;34m,\u001b[0m\u001b[0mmclim\u001b[0m\u001b[0;34m=\u001b[0m\u001b[0mclim_stS\u001b[0m\u001b[0;34m(\u001b[0m\u001b[0mts\u001b[0m\u001b[0;34m.\u001b[0m\u001b[0mvalues\u001b[0m\u001b[0;34m,\u001b[0m\u001b[0;36m1997\u001b[0m\u001b[0;34m)\u001b[0m\u001b[0;31m#\u001b[0m\u001b[0;34m\u001b[0m\u001b[0m\n",
      "\u001b[0;31mNameError\u001b[0m: name 'ds' is not defined"
     ]
    }
   ],
   "source": [
    "##use of the fuction\n",
    "mlo=43\n",
    "mla=87\n",
    "st=np.squeeze(ds.S[292:,mla,mlo])#series time at one point,index 292 in my series time represents the begining of 1997\n",
    "pclim,mclim=clim_stS(st.values,1997)# "
   ]
  },
  {
   "cell_type": "code",
   "execution_count": null,
   "metadata": {
    "collapsed": true
   },
   "outputs": [],
   "source": [
    "##For the filter\n",
    "windows=[19,37]\n",
    "win=windows[0]\n",
    "xpad=np.pad(st.values,win/2,mode='mean')\n",
    "#I think at hte end i dont use the pad for this method\n",
    "deltat=5 \n",
    "fs=1./win #frequency of filter\n",
    "b,a=signal.butter(3,fs)\n",
    "rx=signal.filtfilt(b,a,st.values)"
   ]
  },
  {
   "cell_type": "code",
   "execution_count": null,
   "metadata": {
    "collapsed": true
   },
   "outputs": [],
   "source": [
    "###I add the fucntion to calculate the mean seasonal cycle for dayly data, its similar of the other one, \n",
    "##except it have a few  tricks for the february 29, in this case i just ignore the 29 february, it means every 4 years \n",
    "## I skip this day but basically calculates the same: mean seasonal cycle repeated n- times, \n",
    "##to have the same length as my original series, and the seasonal cycle for just one year."
   ]
  },
  {
   "cell_type": "code",
   "execution_count": null,
   "metadata": {
    "collapsed": true
   },
   "outputs": [],
   "source": [
    "def clim_st2(smean,yi):\n",
    "    \n",
    "    if yi==1997:\n",
    "        l=1\n",
    "        fy=14\n",
    "        ny=15\n",
    "        diy=[365,365,365,366,365,365,365,366,365,365,365,366,365,365,365,366]\n",
    "        years=[1997,1998,1999,2000,2001,2002,2003,2004,2005,2006,2007,2008,2009,2010,2011,2012]\n",
    "    else:\n",
    "        l=0\n",
    "        fy=18\n",
    "        ny=19\n",
    "        diy=[365,365,365,366,365,365,365,366,365,365,365,366,365,365,365,366,365,365,365,366]\n",
    "        years=[1993,1994,1995,1996,1997,1998,1999,2000,2001,2002,2003,2004,2005,2006,2007,2008,2009,2010,2011,2012]\n",
    "        \n",
    "    print(len(diy),len(years))\n",
    "    csdiy=np.cumsum(diy)\n",
    "    dd=365\n",
    "    smeassh=np.empty(len(smean))\n",
    "    smeassh[:]=np.NaN\n",
    "    smep=np.empty(len(smean))\n",
    "    smep[:]=np.NaN\n",
    "    #print(csdiy, smeassh.shape)\n",
    "    for j in range(365):\n",
    "        smeassh[l]=smean[l]\n",
    "        smep[l]=smeassh[l]\n",
    "        #print(smean[l],smeassh[l])\n",
    "        for k in range(ny):\n",
    "            #k=kl+1\n",
    "            #print(l+csdiy[k])\n",
    "            if l>59 and l<360:\n",
    "                if k==2 or k==6 or k==10 or k==14 or k==18:\n",
    "\n",
    "                    smeassh[l]=smeassh[l]+smean[l+csdiy[k]+1]\n",
    "     \n",
    "                else:\n",
    "\n",
    "                    smeassh[l]=smeassh[l]+smean[l+csdiy[k]]\n",
    "               \n",
    "            elif l>359 and k==fy:\n",
    "                 smeassh[l]=smeassh[l]+smean[l+csdiy[k-1]+1]\n",
    "                #print('final year is %s' %k)\n",
    "            \n",
    "            else:\n",
    "            \n",
    "            \n",
    "                smeassh[l]=smeassh[l]+smean[l+csdiy[k]]\n",
    "             \n",
    "    \n",
    "            dd=dd+1\n",
    "        #print(j+csdiy[:-1])\n",
    "        if l<360:\n",
    "            smep[l+csdiy[:-1]]=smeassh[l]\n",
    "            smep[l]=smeassh[l]\n",
    "            #print(smeassh[l],smep[l+csdiy[:-1]],l,j)\n",
    "        else:\n",
    "            smep[l+csdiy[:-2]]=smeassh[l]\n",
    "            smep[l]=smeassh[l]\n",
    "            #print(smeassh[l],smep[l+csdiy[:-2]],l,j)\n",
    " \n",
    "        l=l+1\n",
    "    sme1=smeassh[:365]\n",
    "    return (smep,sme1)"
   ]
  }
 ],
 "metadata": {
  "anaconda-cloud": {},
  "kernelspec": {
   "display_name": "Python [conda root]",
   "language": "python",
   "name": "conda-root-py"
  },
  "language_info": {
   "codemirror_mode": {
    "name": "ipython",
    "version": 2
   },
   "file_extension": ".py",
   "mimetype": "text/x-python",
   "name": "python",
   "nbconvert_exporter": "python",
   "pygments_lexer": "ipython2",
   "version": "2.7.12"
  }
 },
 "nbformat": 4,
 "nbformat_minor": 1
}
